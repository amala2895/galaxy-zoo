{
 "cells": [
  {
   "cell_type": "markdown",
   "metadata": {},
   "source": [
    "## Galaxy Zoo All Questions\n",
    "\n",
    "### Python files required to run ths notebook: data_loader.py, separate_training_validation.py"
   ]
  },
  {
   "cell_type": "code",
   "execution_count": 23,
   "metadata": {
    "collapsed": true
   },
   "outputs": [],
   "source": [
    "from __future__ import print_function\n",
    "import argparse\n",
    "import torch\n",
    "import torch.nn as nn\n",
    "import torch.nn.functional as F\n",
    "import torch.optim as optim\n",
    "from torchvision import datasets, transforms\n",
    "from torch.autograd import Variable\n",
    "import matplotlib.pyplot as plt\n",
    "import numpy as np\n",
    "import os"
   ]
  },
  {
   "cell_type": "code",
   "execution_count": 24,
   "metadata": {},
   "outputs": [
    {
     "data": {
      "text/plain": [
       "<torch._C.Generator at 0x10e6c3b50>"
      ]
     },
     "execution_count": 24,
     "metadata": {},
     "output_type": "execute_result"
    }
   ],
   "source": [
    "# Training settings\n",
    "parser = argparse.ArgumentParser(description='Galaxy zoo project')\n",
    "parser.add_argument('--data', type=str, default='data', metavar='D',\n",
    "                    help=\"folder where data is located\")\n",
    "parser.add_argument('--crop_size', type=str, default=256, metavar='D',\n",
    "                    help=\"Crop Size of images\")\n",
    "parser.add_argument('--resolution', type=str, default=64, metavar='D',\n",
    "                    help=\"Final Resolution of images\")\n",
    "parser.add_argument('--batch_size', type=int, default=64, metavar='N',\n",
    "                    help='input batch size for training (default: 64)')\n",
    "parser.add_argument('--epochs', type=int, default=5, metavar='N',\n",
    "                    help='number of epochs to train (default: 15)')\n",
    "parser.add_argument('--lr', type=float, default=0.01, metavar='LR',\n",
    "                    help='learning rate (default: 0.01)')\n",
    "parser.add_argument('--momentum', type=float, default=0.5, metavar='M',\n",
    "                    help='SGD momentum (default: 0.5)')\n",
    "parser.add_argument('--seed', type=int, default=1, metavar='S',\n",
    "                    help='random seed (default: 1)')\n",
    "parser.add_argument('--log-interval', type=int, default=10, metavar='N',\n",
    "                    help='how many batches to wait before logging training status')\n",
    "\n",
    "parser.add_argument('--question', type=int, default=0, metavar='N',\n",
    "                    help='Question number for which training has to be done. If 0 then all questions')\n",
    "\n",
    "parser.add_argument('--model_directory', type=str, default=\"models\", metavar='N',\n",
    "                    help='directory to store models')\n",
    "\n",
    "parser.add_argument('--validation_length', type=int, default=20, metavar='N',\n",
    "                    help='length of valiudation set')\n",
    "\n",
    "parser.add_argument('--train_length', type=int, default=1000, metavar='N',\n",
    "                    help='length of train set')\n",
    "\n",
    "input_args = \"\"\n",
    "args = parser.parse_args(input_args)\n",
    "torch.manual_seed(args.seed)"
   ]
  },
  {
   "cell_type": "code",
   "execution_count": 25,
   "metadata": {
    "collapsed": true
   },
   "outputs": [],
   "source": [
    "### Data Initialization and Loading\n",
    "from data_loader import initialize_data, loader\n",
    "initialize_data(args.data) "
   ]
  },
  {
   "cell_type": "code",
   "execution_count": 26,
   "metadata": {
    "collapsed": true
   },
   "outputs": [],
   "source": [
    "from YLabelCreate import getYlabel\n",
    "\n",
    "label_ids_training, label_ids_validation, label_values_training, label_values_validation = getYlabel(args.train_length,args.validation_length)\n"
   ]
  },
  {
   "cell_type": "code",
   "execution_count": 27,
   "metadata": {},
   "outputs": [
    {
     "name": "stderr",
     "output_type": "stream",
     "text": [
      "/Users/amaladeshpande/anaconda3/lib/python3.6/site-packages/torchvision-0.2.1-py3.6.egg/torchvision/transforms/transforms.py:188: UserWarning: The use of the transforms.Scale transform is deprecated, please use transforms.Resize instead.\n",
      "  \"please use transforms.Resize instead.\")\n"
     ]
    }
   ],
   "source": [
    "crop_size = args.crop_size\n",
    "resolution = args.resolution\n",
    "batch_size = args.batch_size\n",
    "\n",
    "questions = args.question\n",
    "shuffle=True\n",
    "\n",
    "transformations = transforms.Compose([\n",
    "    transforms.Scale(256),\n",
    "    transforms.CenterCrop(224),\n",
    "    transforms.ToTensor()])\n"
   ]
  },
  {
   "cell_type": "code",
   "execution_count": 28,
   "metadata": {
    "collapsed": true
   },
   "outputs": [],
   "source": [
    "train_loader = loader(label_ids_training, label_values_training, crop_size, resolution, batch_size, shuffle, questions)\n",
    "shuffle=False\n",
    "val_loader=loader(label_ids_validation, label_values_validation, crop_size, resolution, batch_size, shuffle, questions)"
   ]
  },
  {
   "cell_type": "code",
   "execution_count": 29,
   "metadata": {},
   "outputs": [],
   "source": [
    "from Model_All_Questions import Net"
   ]
  },
  {
   "cell_type": "code",
   "execution_count": 30,
   "metadata": {},
   "outputs": [],
   "source": [
    "model = Net()\n",
    "optimizer = optim.SGD(model.parameters(), lr=args.lr, momentum=args.momentum)\n",
    "loss_train=nn.MSELoss()\n",
    "loss_val=nn.MSELoss(reduction='sum')"
   ]
  },
  {
   "cell_type": "code",
   "execution_count": 31,
   "metadata": {
    "collapsed": true
   },
   "outputs": [],
   "source": [
    "def train(epoch):\n",
    "    model.train()\n",
    "    for batch_idx, (data, target) in enumerate(train_loader):\n",
    "        data, target = Variable(data), Variable(target).float()\n",
    "        optimizer.zero_grad()\n",
    "        output = model(data).float()\n",
    "        loss = loss_train(output, target)\n",
    "        loss = Variable(loss, requires_grad = True)\n",
    "        loss.backward()\n",
    "        optimizer.step()\n",
    "        if batch_idx % args.log_interval == 0:\n",
    "            print('Train Epoch: {} [{}/{} ({:.0f}%)]\\tLoss: {:.6f}'.format(\n",
    "                                                                           epoch, batch_idx * len(data), len(train_loader.dataset),\n",
    "                                                                           100. * batch_idx / len(train_loader), loss.data[0]))\n",
    "\n"
   ]
  },
  {
   "cell_type": "code",
   "execution_count": 32,
   "metadata": {
    "collapsed": true
   },
   "outputs": [],
   "source": [
    "def validation():\n",
    "    model.eval()\n",
    "    validation_loss = 0\n",
    "    correct = 0\n",
    "    for data, target in val_loader:\n",
    "        data, target = Variable(data, volatile=True), Variable(target).float()\n",
    "        output = model(data).float()\n",
    "        loss=loss_val(output, target)\n",
    "        loss = Variable(loss, requires_grad = True)\n",
    "        validation_loss += loss # sum up batch loss\n",
    "        \n",
    "    validation_loss /= len(val_loader.dataset)\n",
    "    \n",
    "\n",
    "\n",
    "    print('\\nValidation set: Average loss: {:.4f}\\n'.format(validation_loss, correct))\n",
    "        \n",
    "            "
   ]
  },
  {
   "cell_type": "code",
   "execution_count": 33,
   "metadata": {},
   "outputs": [
    {
     "name": "stderr",
     "output_type": "stream",
     "text": [
      "/Users/amaladeshpande/anaconda3/lib/python3.6/site-packages/torch/nn/functional.py:1006: UserWarning: nn.functional.sigmoid is deprecated. Use torch.sigmoid instead.\n",
      "  warnings.warn(\"nn.functional.sigmoid is deprecated. Use torch.sigmoid instead.\")\n",
      "/Users/amaladeshpande/anaconda3/lib/python3.6/site-packages/ipykernel_launcher.py:14: UserWarning: invalid index of a 0-dim tensor. This will be an error in PyTorch 0.5. Use tensor.item() to convert a 0-dim tensor to a Python number\n",
      "  \n"
     ]
    },
    {
     "name": "stdout",
     "output_type": "stream",
     "text": [
      "Train Epoch: 1 [0/1000 (0%)]\tLoss: 0.041357\n",
      "Train Epoch: 1 [640/1000 (62%)]\tLoss: 0.049341\n"
     ]
    },
    {
     "name": "stderr",
     "output_type": "stream",
     "text": [
      "/Users/amaladeshpande/anaconda3/lib/python3.6/site-packages/ipykernel_launcher.py:6: UserWarning: volatile was removed and now has no effect. Use `with torch.no_grad():` instead.\n",
      "  \n"
     ]
    },
    {
     "name": "stdout",
     "output_type": "stream",
     "text": [
      "\n",
      "Validation set: Average loss: 1.7185\n",
      "\n",
      "Train Epoch: 2 [0/1000 (0%)]\tLoss: 0.043578\n",
      "Train Epoch: 2 [640/1000 (62%)]\tLoss: 0.048924\n",
      "\n",
      "Validation set: Average loss: 1.7185\n",
      "\n",
      "Train Epoch: 3 [0/1000 (0%)]\tLoss: 0.043270\n",
      "Train Epoch: 3 [640/1000 (62%)]\tLoss: 0.043562\n",
      "\n",
      "Validation set: Average loss: 1.7185\n",
      "\n",
      "Train Epoch: 4 [0/1000 (0%)]\tLoss: 0.041408\n",
      "Train Epoch: 4 [640/1000 (62%)]\tLoss: 0.038662\n",
      "\n",
      "Validation set: Average loss: 1.7185\n",
      "\n",
      "Train Epoch: 5 [0/1000 (0%)]\tLoss: 0.047546\n",
      "Train Epoch: 5 [640/1000 (62%)]\tLoss: 0.043302\n",
      "\n",
      "Validation set: Average loss: 1.7185\n",
      "\n"
     ]
    }
   ],
   "source": [
    "\n",
    "if not os.path.exists(args.model_directory):\n",
    "    os.makedirs(args.model_directory)\n",
    "    \n",
    "for epoch in range(1, args.epochs + 1):\n",
    "    train(epoch)\n",
    "   \n",
    "    validation()\n",
    "    if(epoch%10==0):\n",
    "        model_file = args.model_directory+'/model_' + str(epoch) + '.pth'\n",
    "        torch.save(model.state_dict(), model_file)"
   ]
  },
  {
   "cell_type": "code",
   "execution_count": null,
   "metadata": {
    "collapsed": true
   },
   "outputs": [],
   "source": []
  },
  {
   "cell_type": "code",
   "execution_count": null,
   "metadata": {
    "collapsed": true
   },
   "outputs": [],
   "source": []
  },
  {
   "cell_type": "code",
   "execution_count": null,
   "metadata": {
    "collapsed": true
   },
   "outputs": [],
   "source": []
  }
 ],
 "metadata": {
  "kernelspec": {
   "display_name": "Python 3",
   "language": "python",
   "name": "python3"
  },
  "language_info": {
   "codemirror_mode": {
    "name": "ipython",
    "version": 3
   },
   "file_extension": ".py",
   "mimetype": "text/x-python",
   "name": "python",
   "nbconvert_exporter": "python",
   "pygments_lexer": "ipython3",
   "version": "3.6.3"
  }
 },
 "nbformat": 4,
 "nbformat_minor": 2
}
