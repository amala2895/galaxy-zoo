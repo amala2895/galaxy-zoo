{
 "cells": [
  {
   "cell_type": "code",
   "execution_count": 18,
   "metadata": {
    "collapsed": true
   },
   "outputs": [],
   "source": [
    "from __future__ import print_function\n",
    "import argparse\n",
    "import torch\n",
    "import torch.nn as nn\n",
    "import torch.nn.functional as F\n",
    "import torch.optim as optim\n",
    "from torchvision import datasets, transforms\n",
    "from torch.autograd import Variable\n",
    "import matplotlib.pyplot as plt\n",
    "import numpy as np"
   ]
  },
  {
   "cell_type": "code",
   "execution_count": 2,
   "metadata": {},
   "outputs": [
    {
     "data": {
      "text/plain": [
       "<torch._C.Generator at 0x194a932af10>"
      ]
     },
     "execution_count": 2,
     "metadata": {},
     "output_type": "execute_result"
    }
   ],
   "source": [
    "# Training settings\n",
    "parser = argparse.ArgumentParser(description='Galaxy zoo project')\n",
    "parser.add_argument('--data', type=str, default='data', metavar='D',\n",
    "                    help=\"folder where data is located. train_data.zip and test_data.zip need to be found in the folder\")\n",
    "parser.add_argument('--batch-size', type=int, default=64, metavar='N',\n",
    "                    help='input batch size for training (default: 64)')\n",
    "parser.add_argument('--epochs', type=int, default=30, metavar='N',\n",
    "                    help='number of epochs to train (default: 15)')\n",
    "parser.add_argument('--lr', type=float, default=0.01, metavar='LR',\n",
    "                    help='learning rate (default: 0.01)')\n",
    "parser.add_argument('--momentum', type=float, default=0.5, metavar='M',\n",
    "                    help='SGD momentum (default: 0.5)')\n",
    "parser.add_argument('--seed', type=int, default=1, metavar='S',\n",
    "                    help='random seed (default: 1)')\n",
    "parser.add_argument('--log-interval', type=int, default=10, metavar='N',\n",
    "                    help='how many batches to wait before logging training status')\n",
    "\n",
    "\n",
    "input_args = \"\"\n",
    "args = parser.parse_args(input_args)\n",
    "torch.manual_seed(args.seed)"
   ]
  },
  {
   "cell_type": "code",
   "execution_count": 3,
   "metadata": {},
   "outputs": [
    {
     "name": "stdout",
     "output_type": "stream",
     "text": [
      "data/images_training_rev1.zip\n"
     ]
    }
   ],
   "source": [
    "### Data Initialization and Loading\n",
    "from data_loader import initialize_data, data_transforms # data.py in the same folder\n",
    "initialize_data(args.data) # extracts the zip files, makes a validation set\n",
    "\n",
    "train_loader = torch.utils.data.DataLoader(\n",
    "    datasets.ImageFolder(args.data,\n",
    "                         transform=data_transforms),\n",
    "    batch_size=args.batch_size, shuffle=True, num_workers=1)"
   ]
  },
  {
   "cell_type": "code",
   "execution_count": 6,
   "metadata": {},
   "outputs": [
    {
     "name": "stdout",
     "output_type": "stream",
     "text": [
      "tensor([0, 0, 0, 0, 1, 0, 0, 1, 0, 1, 0, 1, 0, 1, 1, 1, 0, 1, 1, 0, 0, 0, 0, 1,\n",
      "        0, 1, 1, 0, 0, 0, 0, 0, 1, 0, 0, 0, 0, 1, 1, 0, 0, 0, 0, 0, 0, 0, 0, 1,\n",
      "        0, 1, 2, 1, 1, 0, 1, 1, 0, 0, 0, 0, 1, 1, 0, 0])\n",
      "torch.Size([64])\n",
      "tensor([[[[0.0078, 0.0039, 0.0157,  ..., 0.0157, 0.0196, 0.0196],\n",
      "          [0.0235, 0.0078, 0.0118,  ..., 0.0118, 0.0157, 0.0196],\n",
      "          [0.0314, 0.0118, 0.0039,  ..., 0.0039, 0.0078, 0.0118],\n",
      "          ...,\n",
      "          [0.0431, 0.0314, 0.0235,  ..., 0.0078, 0.0078, 0.0039],\n",
      "          [0.0275, 0.0275, 0.0235,  ..., 0.0039, 0.0000, 0.0000],\n",
      "          [0.0235, 0.0235, 0.0235,  ..., 0.0039, 0.0000, 0.0000]],\n",
      "\n",
      "         [[0.0078, 0.0039, 0.0157,  ..., 0.0118, 0.0157, 0.0157],\n",
      "          [0.0235, 0.0078, 0.0118,  ..., 0.0078, 0.0118, 0.0157],\n",
      "          [0.0314, 0.0118, 0.0039,  ..., 0.0000, 0.0039, 0.0078],\n",
      "          ...,\n",
      "          [0.0314, 0.0196, 0.0078,  ..., 0.0078, 0.0039, 0.0039],\n",
      "          [0.0235, 0.0157, 0.0078,  ..., 0.0000, 0.0000, 0.0000],\n",
      "          [0.0196, 0.0118, 0.0039,  ..., 0.0000, 0.0000, 0.0000]],\n",
      "\n",
      "         [[0.0039, 0.0000, 0.0078,  ..., 0.0039, 0.0078, 0.0078],\n",
      "          [0.0157, 0.0000, 0.0039,  ..., 0.0000, 0.0039, 0.0078],\n",
      "          [0.0235, 0.0039, 0.0000,  ..., 0.0000, 0.0000, 0.0000],\n",
      "          ...,\n",
      "          [0.0235, 0.0157, 0.0039,  ..., 0.0000, 0.0000, 0.0000],\n",
      "          [0.0157, 0.0118, 0.0039,  ..., 0.0000, 0.0000, 0.0000],\n",
      "          [0.0118, 0.0078, 0.0039,  ..., 0.0000, 0.0000, 0.0000]]],\n",
      "\n",
      "\n",
      "        [[[0.0118, 0.0078, 0.0000,  ..., 0.0235, 0.0235, 0.0118],\n",
      "          [0.0157, 0.0118, 0.0078,  ..., 0.0235, 0.0196, 0.0078],\n",
      "          [0.0196, 0.0196, 0.0196,  ..., 0.0235, 0.0196, 0.0078],\n",
      "          ...,\n",
      "          [0.0118, 0.0157, 0.0275,  ..., 0.0118, 0.0118, 0.0078],\n",
      "          [0.0196, 0.0235, 0.0353,  ..., 0.0039, 0.0078, 0.0078],\n",
      "          [0.0235, 0.0275, 0.0353,  ..., 0.0039, 0.0078, 0.0078]],\n",
      "\n",
      "         [[0.0196, 0.0157, 0.0078,  ..., 0.0510, 0.0471, 0.0353],\n",
      "          [0.0235, 0.0196, 0.0157,  ..., 0.0471, 0.0353, 0.0235],\n",
      "          [0.0275, 0.0275, 0.0275,  ..., 0.0392, 0.0275, 0.0157],\n",
      "          ...,\n",
      "          [0.0196, 0.0235, 0.0353,  ..., 0.0157, 0.0157, 0.0118],\n",
      "          [0.0275, 0.0314, 0.0431,  ..., 0.0118, 0.0078, 0.0078],\n",
      "          [0.0314, 0.0353, 0.0431,  ..., 0.0118, 0.0078, 0.0078]],\n",
      "\n",
      "         [[0.0078, 0.0039, 0.0000,  ..., 0.0431, 0.0392, 0.0275],\n",
      "          [0.0118, 0.0078, 0.0039,  ..., 0.0392, 0.0314, 0.0196],\n",
      "          [0.0157, 0.0157, 0.0157,  ..., 0.0353, 0.0235, 0.0118],\n",
      "          ...,\n",
      "          [0.0157, 0.0196, 0.0314,  ..., 0.0118, 0.0118, 0.0039],\n",
      "          [0.0235, 0.0275, 0.0392,  ..., 0.0000, 0.0000, 0.0000],\n",
      "          [0.0275, 0.0314, 0.0392,  ..., 0.0000, 0.0000, 0.0000]]],\n",
      "\n",
      "\n",
      "        [[[0.0588, 0.0627, 0.0627,  ..., 0.1843, 0.1686, 0.1216],\n",
      "          [0.0275, 0.0353, 0.0353,  ..., 0.1882, 0.1608, 0.1098],\n",
      "          [0.0157, 0.0118, 0.0118,  ..., 0.1608, 0.1137, 0.0667],\n",
      "          ...,\n",
      "          [0.0000, 0.0039, 0.0078,  ..., 0.0000, 0.0000, 0.0000],\n",
      "          [0.0000, 0.0039, 0.0078,  ..., 0.0039, 0.0039, 0.0118],\n",
      "          [0.0000, 0.0039, 0.0118,  ..., 0.0039, 0.0118, 0.0196]],\n",
      "\n",
      "         [[0.0549, 0.0588, 0.0588,  ..., 0.1804, 0.1686, 0.1216],\n",
      "          [0.0235, 0.0314, 0.0314,  ..., 0.1882, 0.1608, 0.1098],\n",
      "          [0.0118, 0.0078, 0.0078,  ..., 0.1608, 0.1137, 0.0667],\n",
      "          ...,\n",
      "          [0.0078, 0.0118, 0.0157,  ..., 0.0000, 0.0000, 0.0000],\n",
      "          [0.0078, 0.0118, 0.0157,  ..., 0.0039, 0.0039, 0.0118],\n",
      "          [0.0078, 0.0118, 0.0196,  ..., 0.0039, 0.0118, 0.0196]],\n",
      "\n",
      "         [[0.0471, 0.0510, 0.0510,  ..., 0.1725, 0.1608, 0.1137],\n",
      "          [0.0157, 0.0235, 0.0235,  ..., 0.1804, 0.1529, 0.1020],\n",
      "          [0.0039, 0.0039, 0.0039,  ..., 0.1529, 0.1059, 0.0588],\n",
      "          ...,\n",
      "          [0.0000, 0.0000, 0.0039,  ..., 0.0000, 0.0000, 0.0000],\n",
      "          [0.0000, 0.0000, 0.0039,  ..., 0.0039, 0.0000, 0.0039],\n",
      "          [0.0000, 0.0000, 0.0078,  ..., 0.0039, 0.0039, 0.0118]]],\n",
      "\n",
      "\n",
      "        ...,\n",
      "\n",
      "\n",
      "        [[[0.0118, 0.0275, 0.0157,  ..., 0.0275, 0.0549, 0.0431],\n",
      "          [0.0118, 0.0235, 0.0157,  ..., 0.0314, 0.0784, 0.0824],\n",
      "          [0.0157, 0.0157, 0.0235,  ..., 0.0392, 0.0824, 0.1098],\n",
      "          ...,\n",
      "          [0.0275, 0.0275, 0.0353,  ..., 0.0588, 0.0392, 0.0275],\n",
      "          [0.0275, 0.0510, 0.0353,  ..., 0.0431, 0.0431, 0.0431],\n",
      "          [0.0275, 0.0510, 0.0353,  ..., 0.0314, 0.0196, 0.0157]],\n",
      "\n",
      "         [[0.0118, 0.0275, 0.0078,  ..., 0.0157, 0.0275, 0.0157],\n",
      "          [0.0118, 0.0235, 0.0078,  ..., 0.0196, 0.0588, 0.0627],\n",
      "          [0.0157, 0.0157, 0.0196,  ..., 0.0314, 0.0667, 0.0941],\n",
      "          ...,\n",
      "          [0.0235, 0.0235, 0.0275,  ..., 0.0275, 0.0314, 0.0157],\n",
      "          [0.0118, 0.0353, 0.0196,  ..., 0.0275, 0.0392, 0.0392],\n",
      "          [0.0157, 0.0353, 0.0196,  ..., 0.0235, 0.0157, 0.0118]],\n",
      "\n",
      "         [[0.0078, 0.0196, 0.0039,  ..., 0.0078, 0.0196, 0.0078],\n",
      "          [0.0039, 0.0157, 0.0039,  ..., 0.0118, 0.0471, 0.0510],\n",
      "          [0.0118, 0.0078, 0.0118,  ..., 0.0196, 0.0549, 0.0824],\n",
      "          ...,\n",
      "          [0.0157, 0.0157, 0.0235,  ..., 0.0314, 0.0196, 0.0078],\n",
      "          [0.0078, 0.0314, 0.0157,  ..., 0.0392, 0.0314, 0.0314],\n",
      "          [0.0118, 0.0314, 0.0157,  ..., 0.0353, 0.0118, 0.0039]]],\n",
      "\n",
      "\n",
      "        [[[0.0314, 0.0353, 0.0314,  ..., 0.0431, 0.0353, 0.0392],\n",
      "          [0.0353, 0.0431, 0.0353,  ..., 0.0314, 0.0314, 0.0275],\n",
      "          [0.0510, 0.0588, 0.0627,  ..., 0.0235, 0.0353, 0.0235],\n",
      "          ...,\n",
      "          [0.0275, 0.0118, 0.0196,  ..., 0.0196, 0.0235, 0.0196],\n",
      "          [0.0118, 0.0157, 0.0275,  ..., 0.0275, 0.0471, 0.0314],\n",
      "          [0.0118, 0.0157, 0.0314,  ..., 0.0275, 0.0392, 0.0353]],\n",
      "\n",
      "         [[0.0118, 0.0157, 0.0078,  ..., 0.0078, 0.0039, 0.0078],\n",
      "          [0.0039, 0.0118, 0.0078,  ..., 0.0039, 0.0078, 0.0039],\n",
      "          [0.0039, 0.0157, 0.0275,  ..., 0.0078, 0.0157, 0.0078],\n",
      "          ...,\n",
      "          [0.0235, 0.0078, 0.0039,  ..., 0.0078, 0.0078, 0.0039],\n",
      "          [0.0078, 0.0118, 0.0235,  ..., 0.0078, 0.0314, 0.0157],\n",
      "          [0.0078, 0.0118, 0.0275,  ..., 0.0118, 0.0235, 0.0196]],\n",
      "\n",
      "         [[0.0118, 0.0157, 0.0078,  ..., 0.0118, 0.0078, 0.0118],\n",
      "          [0.0039, 0.0118, 0.0078,  ..., 0.0078, 0.0078, 0.0039],\n",
      "          [0.0039, 0.0118, 0.0196,  ..., 0.0039, 0.0118, 0.0039],\n",
      "          ...,\n",
      "          [0.0157, 0.0039, 0.0039,  ..., 0.0039, 0.0039, 0.0000],\n",
      "          [0.0039, 0.0039, 0.0157,  ..., 0.0039, 0.0196, 0.0039],\n",
      "          [0.0039, 0.0039, 0.0196,  ..., 0.0039, 0.0118, 0.0078]]],\n",
      "\n",
      "\n",
      "        [[[0.0275, 0.0235, 0.0078,  ..., 0.0196, 0.0196, 0.0157],\n",
      "          [0.0039, 0.0118, 0.0078,  ..., 0.0235, 0.0392, 0.0392],\n",
      "          [0.0118, 0.0118, 0.0118,  ..., 0.0275, 0.0353, 0.0196],\n",
      "          ...,\n",
      "          [0.0078, 0.0157, 0.0118,  ..., 0.0078, 0.0039, 0.0078],\n",
      "          [0.0235, 0.0157, 0.0078,  ..., 0.0078, 0.0039, 0.0157],\n",
      "          [0.0196, 0.0118, 0.0118,  ..., 0.0039, 0.0118, 0.0196]],\n",
      "\n",
      "         [[0.0353, 0.0314, 0.0118,  ..., 0.0353, 0.0392, 0.0353],\n",
      "          [0.0118, 0.0196, 0.0118,  ..., 0.0353, 0.0588, 0.0549],\n",
      "          [0.0157, 0.0196, 0.0196,  ..., 0.0353, 0.0431, 0.0275],\n",
      "          ...,\n",
      "          [0.0157, 0.0235, 0.0235,  ..., 0.0157, 0.0118, 0.0157],\n",
      "          [0.0314, 0.0275, 0.0275,  ..., 0.0157, 0.0118, 0.0235],\n",
      "          [0.0275, 0.0235, 0.0314,  ..., 0.0118, 0.0196, 0.0275]],\n",
      "\n",
      "         [[0.0235, 0.0196, 0.0039,  ..., 0.0235, 0.0235, 0.0235],\n",
      "          [0.0039, 0.0078, 0.0039,  ..., 0.0275, 0.0431, 0.0431],\n",
      "          [0.0078, 0.0078, 0.0078,  ..., 0.0275, 0.0314, 0.0157],\n",
      "          ...,\n",
      "          [0.0039, 0.0118, 0.0118,  ..., 0.0039, 0.0000, 0.0039],\n",
      "          [0.0196, 0.0157, 0.0118,  ..., 0.0078, 0.0000, 0.0118],\n",
      "          [0.0157, 0.0118, 0.0196,  ..., 0.0000, 0.0078, 0.0157]]]])\n",
      "torch.Size([64, 3, 128, 128])\n"
     ]
    }
   ],
   "source": [
    "for i, (data, target) in enumerate(train_loader):\n",
    "    if(i == 0):\n",
    "        print(target)\n",
    "        print(target.shape)\n",
    "        print(data)\n",
    "        print(data.shape)\n",
    "        break"
   ]
  },
  {
   "cell_type": "code",
   "execution_count": 10,
   "metadata": {},
   "outputs": [],
   "source": [
    "read_label_ids = np.load('label_ids.npy')\n",
    "read_label_values = np.load('label_values.npy').item()"
   ]
  },
  {
   "cell_type": "code",
   "execution_count": 11,
   "metadata": {},
   "outputs": [
    {
     "data": {
      "text/plain": [
       "array([100008, 100023, 100053, ..., 999958, 999964, 999967], dtype=int64)"
      ]
     },
     "execution_count": 11,
     "metadata": {},
     "output_type": "execute_result"
    }
   ],
   "source": [
    "read_label_ids"
   ]
  },
  {
   "cell_type": "code",
   "execution_count": 17,
   "metadata": {},
   "outputs": [
    {
     "data": {
      "text/plain": [
       "float"
      ]
     },
     "execution_count": 17,
     "metadata": {},
     "output_type": "execute_result"
    }
   ],
   "source": [
    "type(read_label_values[100008][0])"
   ]
  },
  {
   "cell_type": "code",
   "execution_count": 39,
   "metadata": {
    "collapsed": true
   },
   "outputs": [],
   "source": [
    "image_folder = 'images_training_rev1'\n",
    "\n",
    "import torch\n",
    "from torch.utils import data\n",
    "\n",
    "class Dataset(data.Dataset):\n",
    "  #'Characterizes a dataset for PyTorch'\n",
    "    def __init__(self, list_IDs, labels,transforms=None):\n",
    "        'Initialization'\n",
    "        self.labels = labels\n",
    "        self.list_IDs = list_IDs\n",
    "        self.transforms=transforms\n",
    "\n",
    "    def __len__(self):\n",
    "        'Denotes the total number of samples'\n",
    "        return len(self.list_IDs)\n",
    "\n",
    "    def __getitem__(self, index):\n",
    "        'Generates one sample of data'\n",
    "        # Select sample\n",
    "        ID = self.list_IDs[index]\n",
    "\n",
    "        # Load data and get label\n",
    "        data = plt.imread('data/' + image_folder + '/' + str(ID) + '.jpg')\n",
    "        X=data\n",
    "        if self.transforms is not None:\n",
    "            X=self.transforms(X)\n",
    "        \n",
    "        y = self.labels[ID]\n",
    "        print(len(y))\n",
    "        return X, y"
   ]
  },
  {
   "cell_type": "code",
   "execution_count": 40,
   "metadata": {},
   "outputs": [],
   "source": [
    "params = {'batch_size': 64,\n",
    "          'shuffle': True}\n",
    "training_set = Dataset(read_label_ids[0:49001],read_label_values)\n",
    "training_generator = data.DataLoader(training_set, **params)"
   ]
  },
  {
   "cell_type": "code",
   "execution_count": 46,
   "metadata": {},
   "outputs": [
    {
     "name": "stdout",
     "output_type": "stream",
     "text": [
      "37\n",
      "[0.383147, 0.616853, 0.0, 0.0, 0.616853, 0.038452149, 0.578400851, 0.418397819, 0.198455181, 0.0, 0.104752126, 0.512100874, 0.0, 0.054453, 0.945547, 0.201462524, 0.181684476, 0.0, 0.0, 0.0272265, 0.0, 0.0272265, 0.0, 0.0, 0.0, 0.0, 0.0, 0.0, 0.279952491, 0.138445328, 0.0, 0.0, 0.092885571, 0.0, 0.0, 0.0, 0.325512248]\n",
      "37\n",
      "[[[2 2 0]\n",
      "  [4 4 2]\n",
      "  [5 5 3]\n",
      "  ...\n",
      "  [2 2 2]\n",
      "  [2 2 2]\n",
      "  [2 2 2]]\n",
      "\n",
      " [[5 5 3]\n",
      "  [6 6 4]\n",
      "  [6 6 4]\n",
      "  ...\n",
      "  [2 2 2]\n",
      "  [2 2 2]\n",
      "  [2 2 2]]\n",
      "\n",
      " [[7 7 5]\n",
      "  [8 8 6]\n",
      "  [8 8 6]\n",
      "  ...\n",
      "  [2 2 2]\n",
      "  [2 2 2]\n",
      "  [3 3 3]]\n",
      "\n",
      " ...\n",
      "\n",
      " [[6 6 4]\n",
      "  [5 5 3]\n",
      "  [4 4 2]\n",
      "  ...\n",
      "  [4 4 2]\n",
      "  [2 2 0]\n",
      "  [0 0 0]]\n",
      "\n",
      " [[6 6 4]\n",
      "  [5 5 3]\n",
      "  [4 4 2]\n",
      "  ...\n",
      "  [2 2 0]\n",
      "  [1 1 0]\n",
      "  [0 0 0]]\n",
      "\n",
      " [[6 6 4]\n",
      "  [5 5 3]\n",
      "  [4 4 2]\n",
      "  ...\n",
      "  [1 1 0]\n",
      "  [1 1 0]\n",
      "  [0 0 0]]]\n",
      "(424, 424, 3)\n"
     ]
    }
   ],
   "source": [
    "i=0\n",
    "for data, target in training_set:\n",
    "    if(i == 0):\n",
    "        #print(target)\n",
    "        print(target)\n",
    "        print(len(target))\n",
    "        print(data)\n",
    "        print(data.shape)\n",
    "        break"
   ]
  },
  {
   "cell_type": "code",
   "execution_count": 30,
   "metadata": {},
   "outputs": [
    {
     "data": {
      "text/plain": [
       "49001"
      ]
     },
     "execution_count": 30,
     "metadata": {},
     "output_type": "execute_result"
    }
   ],
   "source": [
    "len(read_label_ids[0:49001]r)"
   ]
  },
  {
   "cell_type": "code",
   "execution_count": 26,
   "metadata": {},
   "outputs": [
    {
     "ename": "UnpicklingError",
     "evalue": "invalid load key, '\\xff'.",
     "output_type": "error",
     "traceback": [
      "\u001b[1;31m---------------------------------------------------------------------------\u001b[0m",
      "\u001b[1;31mUnpicklingError\u001b[0m                           Traceback (most recent call last)",
      "\u001b[1;32m<ipython-input-26-1a68755c69fa>\u001b[0m in \u001b[0;36m<module>\u001b[1;34m()\u001b[0m\n\u001b[1;32m----> 1\u001b[1;33m \u001b[0mimages\u001b[0m \u001b[1;33m=\u001b[0m \u001b[0mtorch\u001b[0m\u001b[1;33m.\u001b[0m\u001b[0mload\u001b[0m\u001b[1;33m(\u001b[0m\u001b[1;34m'data/images_training_rev1/100008.jpg'\u001b[0m\u001b[1;33m)\u001b[0m\u001b[1;33m\u001b[0m\u001b[0m\n\u001b[0m",
      "\u001b[1;32m~\\Anaconda3\\lib\\site-packages\\torch\\serialization.py\u001b[0m in \u001b[0;36mload\u001b[1;34m(f, map_location, pickle_module)\u001b[0m\n\u001b[0;32m    356\u001b[0m         \u001b[0mf\u001b[0m \u001b[1;33m=\u001b[0m \u001b[0mopen\u001b[0m\u001b[1;33m(\u001b[0m\u001b[0mf\u001b[0m\u001b[1;33m,\u001b[0m \u001b[1;34m'rb'\u001b[0m\u001b[1;33m)\u001b[0m\u001b[1;33m\u001b[0m\u001b[0m\n\u001b[0;32m    357\u001b[0m     \u001b[1;32mtry\u001b[0m\u001b[1;33m:\u001b[0m\u001b[1;33m\u001b[0m\u001b[0m\n\u001b[1;32m--> 358\u001b[1;33m         \u001b[1;32mreturn\u001b[0m \u001b[0m_load\u001b[0m\u001b[1;33m(\u001b[0m\u001b[0mf\u001b[0m\u001b[1;33m,\u001b[0m \u001b[0mmap_location\u001b[0m\u001b[1;33m,\u001b[0m \u001b[0mpickle_module\u001b[0m\u001b[1;33m)\u001b[0m\u001b[1;33m\u001b[0m\u001b[0m\n\u001b[0m\u001b[0;32m    359\u001b[0m     \u001b[1;32mfinally\u001b[0m\u001b[1;33m:\u001b[0m\u001b[1;33m\u001b[0m\u001b[0m\n\u001b[0;32m    360\u001b[0m         \u001b[1;32mif\u001b[0m \u001b[0mnew_fd\u001b[0m\u001b[1;33m:\u001b[0m\u001b[1;33m\u001b[0m\u001b[0m\n",
      "\u001b[1;32m~\\Anaconda3\\lib\\site-packages\\torch\\serialization.py\u001b[0m in \u001b[0;36m_load\u001b[1;34m(f, map_location, pickle_module)\u001b[0m\n\u001b[0;32m    530\u001b[0m             \u001b[0mf\u001b[0m\u001b[1;33m.\u001b[0m\u001b[0mseek\u001b[0m\u001b[1;33m(\u001b[0m\u001b[1;36m0\u001b[0m\u001b[1;33m)\u001b[0m\u001b[1;33m\u001b[0m\u001b[0m\n\u001b[0;32m    531\u001b[0m \u001b[1;33m\u001b[0m\u001b[0m\n\u001b[1;32m--> 532\u001b[1;33m     \u001b[0mmagic_number\u001b[0m \u001b[1;33m=\u001b[0m \u001b[0mpickle_module\u001b[0m\u001b[1;33m.\u001b[0m\u001b[0mload\u001b[0m\u001b[1;33m(\u001b[0m\u001b[0mf\u001b[0m\u001b[1;33m)\u001b[0m\u001b[1;33m\u001b[0m\u001b[0m\n\u001b[0m\u001b[0;32m    533\u001b[0m     \u001b[1;32mif\u001b[0m \u001b[0mmagic_number\u001b[0m \u001b[1;33m!=\u001b[0m \u001b[0mMAGIC_NUMBER\u001b[0m\u001b[1;33m:\u001b[0m\u001b[1;33m\u001b[0m\u001b[0m\n\u001b[0;32m    534\u001b[0m         \u001b[1;32mraise\u001b[0m \u001b[0mRuntimeError\u001b[0m\u001b[1;33m(\u001b[0m\u001b[1;34m\"Invalid magic number; corrupt file?\"\u001b[0m\u001b[1;33m)\u001b[0m\u001b[1;33m\u001b[0m\u001b[0m\n",
      "\u001b[1;31mUnpicklingError\u001b[0m: invalid load key, '\\xff'."
     ]
    }
   ],
   "source": [
    "images = plt.imread('data/images_training_rev1/100008.jpg')"
   ]
  },
  {
   "cell_type": "markdown",
   "metadata": {},
   "source": [
    "type(images)"
   ]
  },
  {
   "cell_type": "code",
   "execution_count": 24,
   "metadata": {},
   "outputs": [
    {
     "data": {
      "text/plain": [
       "(424, 424, 3)"
      ]
     },
     "execution_count": 24,
     "metadata": {},
     "output_type": "execute_result"
    }
   ],
   "source": [
    "images.shape"
   ]
  },
  {
   "cell_type": "code",
   "execution_count": 25,
   "metadata": {},
   "outputs": [
    {
     "data": {
      "text/plain": [
       "array([[[2, 2, 0],\n",
       "        [4, 4, 2],\n",
       "        [5, 5, 3],\n",
       "        ...,\n",
       "        [2, 2, 2],\n",
       "        [2, 2, 2],\n",
       "        [2, 2, 2]],\n",
       "\n",
       "       [[5, 5, 3],\n",
       "        [6, 6, 4],\n",
       "        [6, 6, 4],\n",
       "        ...,\n",
       "        [2, 2, 2],\n",
       "        [2, 2, 2],\n",
       "        [2, 2, 2]],\n",
       "\n",
       "       [[7, 7, 5],\n",
       "        [8, 8, 6],\n",
       "        [8, 8, 6],\n",
       "        ...,\n",
       "        [2, 2, 2],\n",
       "        [2, 2, 2],\n",
       "        [3, 3, 3]],\n",
       "\n",
       "       ...,\n",
       "\n",
       "       [[6, 6, 4],\n",
       "        [5, 5, 3],\n",
       "        [4, 4, 2],\n",
       "        ...,\n",
       "        [4, 4, 2],\n",
       "        [2, 2, 0],\n",
       "        [0, 0, 0]],\n",
       "\n",
       "       [[6, 6, 4],\n",
       "        [5, 5, 3],\n",
       "        [4, 4, 2],\n",
       "        ...,\n",
       "        [2, 2, 0],\n",
       "        [1, 1, 0],\n",
       "        [0, 0, 0]],\n",
       "\n",
       "       [[6, 6, 4],\n",
       "        [5, 5, 3],\n",
       "        [4, 4, 2],\n",
       "        ...,\n",
       "        [1, 1, 0],\n",
       "        [1, 1, 0],\n",
       "        [0, 0, 0]]], dtype=uint8)"
      ]
     },
     "execution_count": 25,
     "metadata": {},
     "output_type": "execute_result"
    }
   ],
   "source": [
    "images"
   ]
  },
  {
   "cell_type": "code",
   "execution_count": null,
   "metadata": {
    "collapsed": true
   },
   "outputs": [],
   "source": []
  }
 ],
 "metadata": {
  "kernelspec": {
   "display_name": "Python 3",
   "language": "python",
   "name": "python3"
  },
  "language_info": {
   "codemirror_mode": {
    "name": "ipython",
    "version": 3
   },
   "file_extension": ".py",
   "mimetype": "text/x-python",
   "name": "python",
   "nbconvert_exporter": "python",
   "pygments_lexer": "ipython3",
   "version": "3.6.5"
  }
 },
 "nbformat": 4,
 "nbformat_minor": 2
}
