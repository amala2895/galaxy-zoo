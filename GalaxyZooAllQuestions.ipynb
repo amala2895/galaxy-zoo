{
 "cells": [
  {
   "cell_type": "markdown",
   "metadata": {},
   "source": [
    "## Galaxy Zoo All Questions\n",
    "\n",
    "### Python files required to run ths notebook: data_loader.py, separate_training_validation.py"
   ]
  },
  {
   "cell_type": "code",
   "execution_count": 14,
   "metadata": {
    "collapsed": true
   },
   "outputs": [],
   "source": [
    "from __future__ import print_function\n",
    "import argparse\n",
    "import torch\n",
    "import torch.nn as nn\n",
    "import torch.nn.functional as F\n",
    "import torch.optim as optim\n",
    "from torchvision import datasets, transforms\n",
    "from torch.autograd import Variable\n",
    "import matplotlib.pyplot as plt\n",
    "import numpy as np\n",
    "import os"
   ]
  },
  {
   "cell_type": "code",
   "execution_count": 16,
   "metadata": {},
   "outputs": [
    {
     "data": {
      "text/plain": [
       "<torch._C.Generator at 0x1052f5b50>"
      ]
     },
     "execution_count": 16,
     "metadata": {},
     "output_type": "execute_result"
    }
   ],
   "source": [
    "# Training settings\n",
    "parser = argparse.ArgumentParser(description='Galaxy zoo project')\n",
    "parser.add_argument('--data', type=str, default='data', metavar='D',\n",
    "                    help=\"folder where data is located\")\n",
    "parser.add_argument('--crop_size', type=str, default=256, metavar='D',\n",
    "                    help=\"Crop Size of images\")\n",
    "parser.add_argument('--resolution', type=str, default=64, metavar='D',\n",
    "                    help=\"Final Resolution of images\")\n",
    "parser.add_argument('--batch_size', type=int, default=64, metavar='N',\n",
    "                    help='input batch size for training (default: 64)')\n",
    "parser.add_argument('--epochs', type=int, default=5, metavar='N',\n",
    "                    help='number of epochs to train (default: 15)')\n",
    "parser.add_argument('--lr', type=float, default=0.01, metavar='LR',\n",
    "                    help='learning rate (default: 0.01)')\n",
    "parser.add_argument('--momentum', type=float, default=0.5, metavar='M',\n",
    "                    help='SGD momentum (default: 0.5)')\n",
    "parser.add_argument('--seed', type=int, default=1, metavar='S',\n",
    "                    help='random seed (default: 1)')\n",
    "parser.add_argument('--log-interval', type=int, default=10, metavar='N',\n",
    "                    help='how many batches to wait before logging training status')\n",
    "\n",
    "parser.add_argument('--question', type=int, default=0, metavar='N',\n",
    "                    help='Question number for which training has to be done. If 0 then all questions')\n",
    "\n",
    "parser.add_argument('--model_directory', type=str, default=\"models\", metavar='N',\n",
    "                    help='directory to store models')\n",
    "\n",
    "parser.add_argument('--validation_length', type=int, default=20, metavar='N',\n",
    "                    help='length of valiudation set')\n",
    "\n",
    "parser.add_argument('--train_length', type=int, default=1000, metavar='N',\n",
    "                    help='length of train set')\n",
    "\n",
    "input_args = \"\"\n",
    "args = parser.parse_args(input_args)\n",
    "torch.manual_seed(args.seed)"
   ]
  },
  {
   "cell_type": "code",
   "execution_count": 17,
   "metadata": {},
   "outputs": [],
   "source": [
    "### Data Initialization and Loading\n",
    "from data_loader import initialize_data, loader\n",
    "initialize_data(args.data) "
   ]
  },
  {
   "cell_type": "code",
   "execution_count": 18,
   "metadata": {
    "collapsed": true
   },
   "outputs": [],
   "source": [
    "from YLabelCreate import getYlabel\n",
    "\n",
    "label_ids_training, label_ids_validation, label_values_training, label_values_validation = getYlabel(5000,100)\n"
   ]
  },
  {
   "cell_type": "code",
   "execution_count": 19,
   "metadata": {},
   "outputs": [
    {
     "name": "stderr",
     "output_type": "stream",
     "text": [
      "/Users/amaladeshpande/anaconda3/lib/python3.6/site-packages/torchvision-0.2.1-py3.6.egg/torchvision/transforms/transforms.py:188: UserWarning: The use of the transforms.Scale transform is deprecated, please use transforms.Resize instead.\n"
     ]
    }
   ],
   "source": [
    "crop_size = args.crop_size\n",
    "resolution = args.resolution\n",
    "batch_size = args.batch_size\n",
    "\n",
    "questions = args.question\n",
    "shuffle=True\n",
    "\n",
    "transformations = transforms.Compose([\n",
    "    transforms.Scale(256),\n",
    "    transforms.CenterCrop(224),\n",
    "    transforms.ToTensor()])\n"
   ]
  },
  {
   "cell_type": "code",
   "execution_count": 20,
   "metadata": {},
   "outputs": [
    {
     "name": "stdout",
     "output_type": "stream",
     "text": [
      "64\n",
      "64\n"
     ]
    }
   ],
   "source": [
    "train_loader = loader(label_ids_training, label_values_training, crop_size, resolution, batch_size, shuffle, questions)\n",
    "shuffle=False\n",
    "val_loader=loader(label_ids_validation, label_values_validation, crop_size, resolution, batch_size, shuffle, questions)"
   ]
  },
  {
   "cell_type": "code",
   "execution_count": 21,
   "metadata": {
    "collapsed": true
   },
   "outputs": [],
   "source": [
    "from Model_All_Questions import Net"
   ]
  },
  {
   "cell_type": "code",
   "execution_count": 22,
   "metadata": {
    "collapsed": true
   },
   "outputs": [],
   "source": [
    "model = Net()\n",
    "optimizer = optim.SGD(model.parameters(), lr=args.lr, momentum=args.momentum)\n",
    "loss_train=nn.MSELoss()\n",
    "loss_val=nn.MSELoss(reduction='sum')"
   ]
  },
  {
   "cell_type": "code",
   "execution_count": 23,
   "metadata": {
    "collapsed": true
   },
   "outputs": [],
   "source": [
    "def train(epoch):\n",
    "    model.train()\n",
    "    for batch_idx, (data, target) in enumerate(train_loader):\n",
    "        data, target = Variable(data), Variable(target).float()\n",
    "        optimizer.zero_grad()\n",
    "        output = model(data)\n",
    "        loss = loss_train(output, target)\n",
    "        loss.backward()\n",
    "        optimizer.step()\n",
    "        if batch_idx % args.log_interval == 0:\n",
    "            print('Train Epoch: {} [{}/{} ({:.0f}%)]\\tLoss: {:.6f}'.format(\n",
    "                                                                           epoch, batch_idx * len(data), len(train_loader.dataset),\n",
    "                                                                           100. * batch_idx / len(train_loader), loss.data[0]))\n",
    "\n"
   ]
  },
  {
   "cell_type": "code",
   "execution_count": 24,
   "metadata": {
    "collapsed": true
   },
   "outputs": [],
   "source": [
    "def validation():\n",
    "    model.eval()\n",
    "    validation_loss = 0\n",
    "    correct = 0\n",
    "    for data, target in val_loader:\n",
    "        data, target = Variable(data, volatile=True), Variable(target).float()\n",
    "        output = model(data)\n",
    "        validation_loss += loss_val(output, target) # sum up batch loss\n",
    "        \n",
    "    validation_loss /= len(val_loader.dataset)\n",
    "    \n",
    "\n",
    "\n",
    "    print('\\nValidation set: Average loss: {:.4f}\\n'.format(validation_loss, correct))\n",
    "        \n",
    "            "
   ]
  },
  {
   "cell_type": "code",
   "execution_count": 25,
   "metadata": {},
   "outputs": [
    {
     "name": "stderr",
     "output_type": "stream",
     "text": [
      "/Users/amaladeshpande/anaconda3/lib/python3.6/site-packages/ipykernel_launcher.py:13: UserWarning: invalid index of a 0-dim tensor. This will be an error in PyTorch 0.5. Use tensor.item() to convert a 0-dim tensor to a Python number\n",
      "  del sys.path[0]\n"
     ]
    },
    {
     "name": "stdout",
     "output_type": "stream",
     "text": [
      "Train Epoch: 1 [0/5000 (0%)]\tLoss: 0.074786\n",
      "Train Epoch: 1 [640/5000 (13%)]\tLoss: 0.068955\n",
      "Train Epoch: 1 [1280/5000 (25%)]\tLoss: 0.066662\n",
      "Train Epoch: 1 [1920/5000 (38%)]\tLoss: 0.063572\n",
      "Train Epoch: 1 [2560/5000 (51%)]\tLoss: 0.052511\n",
      "Train Epoch: 1 [3200/5000 (63%)]\tLoss: 0.062722\n",
      "Train Epoch: 1 [3840/5000 (76%)]\tLoss: 0.053106\n",
      "Train Epoch: 1 [4480/5000 (89%)]\tLoss: 0.045857\n"
     ]
    },
    {
     "name": "stderr",
     "output_type": "stream",
     "text": [
      "/Users/amaladeshpande/anaconda3/lib/python3.6/site-packages/ipykernel_launcher.py:6: UserWarning: volatile was removed and now has no effect. Use `with torch.no_grad():` instead.\n",
      "  \n"
     ]
    },
    {
     "name": "stdout",
     "output_type": "stream",
     "text": [
      "100\n",
      "\n",
      "Validation set: Average loss: 1.7580\n",
      "\n",
      "Train Epoch: 2 [0/5000 (0%)]\tLoss: 0.046011\n",
      "Train Epoch: 2 [640/5000 (13%)]\tLoss: 0.045933\n",
      "Train Epoch: 2 [1280/5000 (25%)]\tLoss: 0.042166\n",
      "Train Epoch: 2 [1920/5000 (38%)]\tLoss: 0.035045\n",
      "Train Epoch: 2 [2560/5000 (51%)]\tLoss: 0.032012\n",
      "Train Epoch: 2 [3200/5000 (63%)]\tLoss: 0.031307\n",
      "Train Epoch: 2 [3840/5000 (76%)]\tLoss: 0.029351\n",
      "Train Epoch: 2 [4480/5000 (89%)]\tLoss: 0.030284\n",
      "100\n",
      "\n",
      "Validation set: Average loss: 1.0540\n",
      "\n",
      "Train Epoch: 3 [0/5000 (0%)]\tLoss: 0.028226\n",
      "Train Epoch: 3 [640/5000 (13%)]\tLoss: 0.023292\n",
      "Train Epoch: 3 [1280/5000 (25%)]\tLoss: 0.028038\n",
      "Train Epoch: 3 [1920/5000 (38%)]\tLoss: 0.026195\n",
      "Train Epoch: 3 [2560/5000 (51%)]\tLoss: 0.026519\n",
      "Train Epoch: 3 [3200/5000 (63%)]\tLoss: 0.025530\n",
      "Train Epoch: 3 [3840/5000 (76%)]\tLoss: 0.024267\n",
      "Train Epoch: 3 [4480/5000 (89%)]\tLoss: 0.026195\n",
      "100\n",
      "\n",
      "Validation set: Average loss: 1.0192\n",
      "\n",
      "Train Epoch: 4 [0/5000 (0%)]\tLoss: 0.025269\n",
      "Train Epoch: 4 [640/5000 (13%)]\tLoss: 0.024480\n",
      "Train Epoch: 4 [1280/5000 (25%)]\tLoss: 0.023615\n",
      "Train Epoch: 4 [1920/5000 (38%)]\tLoss: 0.026990\n",
      "Train Epoch: 4 [2560/5000 (51%)]\tLoss: 0.032562\n",
      "Train Epoch: 4 [3200/5000 (63%)]\tLoss: 0.024999\n",
      "Train Epoch: 4 [3840/5000 (76%)]\tLoss: 0.029259\n",
      "Train Epoch: 4 [4480/5000 (89%)]\tLoss: 0.024891\n",
      "100\n",
      "\n",
      "Validation set: Average loss: 1.0147\n",
      "\n",
      "Train Epoch: 5 [0/5000 (0%)]\tLoss: 0.027654\n",
      "Train Epoch: 5 [640/5000 (13%)]\tLoss: 0.023945\n",
      "Train Epoch: 5 [1280/5000 (25%)]\tLoss: 0.028181\n",
      "Train Epoch: 5 [1920/5000 (38%)]\tLoss: 0.026857\n",
      "Train Epoch: 5 [2560/5000 (51%)]\tLoss: 0.028174\n",
      "Train Epoch: 5 [3200/5000 (63%)]\tLoss: 0.028356\n",
      "Train Epoch: 5 [3840/5000 (76%)]\tLoss: 0.026409\n",
      "Train Epoch: 5 [4480/5000 (89%)]\tLoss: 0.029399\n",
      "100\n",
      "\n",
      "Validation set: Average loss: 1.0139\n",
      "\n"
     ]
    }
   ],
   "source": [
    "\n",
    "if not os.path.exists(args.model_directory):\n",
    "    os.makedirs(args.model_directory)\n",
    "    \n",
    "for epoch in range(1, args.epochs + 1):\n",
    "    train(epoch)\n",
    "   \n",
    "    validation()\n",
    "    \n",
    "    model_file = args.model_directory+'/model_' + str(epoch) + '.pth'\n",
    "    torch.save(model.state_dict(), model_file)"
   ]
  },
  {
   "cell_type": "code",
   "execution_count": null,
   "metadata": {
    "collapsed": true
   },
   "outputs": [],
   "source": []
  }
 ],
 "metadata": {
  "kernelspec": {
   "display_name": "Python 3",
   "language": "python",
   "name": "python3"
  },
  "language_info": {
   "codemirror_mode": {
    "name": "ipython",
    "version": 3
   },
   "file_extension": ".py",
   "mimetype": "text/x-python",
   "name": "python",
   "nbconvert_exporter": "python",
   "pygments_lexer": "ipython3",
   "version": "3.6.3"
  }
 },
 "nbformat": 4,
 "nbformat_minor": 2
}
