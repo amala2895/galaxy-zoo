{
 "cells": [
  {
   "cell_type": "code",
   "execution_count": 5,
   "metadata": {
    "collapsed": true
   },
   "outputs": [],
   "source": [
    "#converting traning_solutions_rev1.csv file to y labels ids and values\n",
    "import torch\n",
    "import pandas as pd\n",
    "import csv\n",
    "import numpy as np"
   ]
  },
  {
   "cell_type": "code",
   "execution_count": 6,
   "metadata": {},
   "outputs": [
    {
     "data": {
      "text/plain": [
       "61578"
      ]
     },
     "execution_count": 6,
     "metadata": {},
     "output_type": "execute_result"
    }
   ],
   "source": [
    "reader = csv.reader(open('data/training_solutions_rev1.csv', 'r'))\n",
    "\n",
    "label_ids=[]\n",
    "next(reader)\n",
    "for row in reader:\n",
    "    k=row[0]\n",
    "    k=int(k)\n",
    "    label_ids.append(k)\n",
    "    \n",
    "\n",
    "len(label_ids)"
   ]
  },
  {
   "cell_type": "code",
   "execution_count": 7,
   "metadata": {},
   "outputs": [
    {
     "name": "stdout",
     "output_type": "stream",
     "text": [
      "49001\n",
      "12577\n",
      "61578\n"
     ]
    }
   ],
   "source": [
    "label_ids_training=label_ids[0:49001]\n",
    "label_ids_validation=label_ids[49001:]\n",
    "print(len(label_ids_training))\n",
    "print(len(label_ids_validation))\n",
    "print(len(label_ids_training)+len(label_ids_validation))"
   ]
  },
  {
   "cell_type": "code",
   "execution_count": null,
   "metadata": {
    "collapsed": true
   },
   "outputs": [],
   "source": [
    "if()"
   ]
  },
  {
   "cell_type": "code",
   "execution_count": 8,
   "metadata": {
    "collapsed": true
   },
   "outputs": [],
   "source": [
    "label_values_training = {}\n",
    "label_values_validation = {}"
   ]
  },
  {
   "cell_type": "code",
   "execution_count": 17,
   "metadata": {},
   "outputs": [
    {
     "name": "stdout",
     "output_type": "stream",
     "text": [
      "49001\n"
     ]
    }
   ],
   "source": [
    "reader = csv.reader(open('data/training_solutions_rev1.csv', 'r'))\n",
    "next(reader)\n",
    "for row in reader:\n",
    "    k,v =row[0],row[1:]\n",
    "    k=int(k)\n",
    "    if(k in label_ids_training):\n",
    "        #print(k)\n",
    "        v1=[]\n",
    "        for e in v:\n",
    "            v1.append(float(e))\n",
    "        label_values_training[k] = v1\n",
    "\n",
    "print(len(label_values_training))"
   ]
  },
  {
   "cell_type": "code",
   "execution_count": 18,
   "metadata": {},
   "outputs": [
    {
     "name": "stdout",
     "output_type": "stream",
     "text": [
      "12577\n"
     ]
    }
   ],
   "source": [
    "reader = csv.reader(open('data/training_solutions_rev1.csv', 'r'))\n",
    "next(reader)\n",
    "for row in reader:\n",
    "    k,v =row[0],row[1:]\n",
    "    k=int(k)\n",
    "    if(k in label_ids_validation):\n",
    "        \n",
    "        v1=[]\n",
    "        for e in v:\n",
    "            v1.append(float(e))\n",
    "        label_values_validation[k] = v1\n",
    "\n",
    "print(len(label_values_validation))"
   ]
  },
  {
   "cell_type": "code",
   "execution_count": 19,
   "metadata": {
    "collapsed": true
   },
   "outputs": [],
   "source": [
    "np.save('data/label_values_training.npy', label_values_training) \n",
    "np.save('data/label_values_validation.npy', label_values_validation) "
   ]
  },
  {
   "cell_type": "code",
   "execution_count": 20,
   "metadata": {
    "collapsed": true
   },
   "outputs": [],
   "source": [
    "np.save('data/label_ids_training.npy', label_ids_training)\n",
    "np.save('data/label_ids_validation.npy', label_ids_validation) "
   ]
  },
  {
   "cell_type": "code",
   "execution_count": null,
   "metadata": {
    "collapsed": true
   },
   "outputs": [],
   "source": []
  }
 ],
 "metadata": {
  "kernelspec": {
   "display_name": "Python 3",
   "language": "python",
   "name": "python3"
  },
  "language_info": {
   "codemirror_mode": {
    "name": "ipython",
    "version": 3
   },
   "file_extension": ".py",
   "mimetype": "text/x-python",
   "name": "python",
   "nbconvert_exporter": "python",
   "pygments_lexer": "ipython3",
   "version": "3.6.3"
  }
 },
 "nbformat": 4,
 "nbformat_minor": 2
}
